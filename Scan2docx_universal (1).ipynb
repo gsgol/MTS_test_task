{
 "cells": [
  {
   "cell_type": "code",
   "execution_count": 37,
   "id": "3110b635",
   "metadata": {},
   "outputs": [
    {
     "name": "stdout",
     "output_type": "stream",
     "text": [
      "Enter scan path, available file extentions (png, pdf, tiff, jpg):  test_rotated.pdf\n",
      "Enter scan language, one of the following: ru - Russian, en - English, fr - French, de - German, es - spanish ru\n",
      "Enter output path: test.docx\n"
     ]
    },
    {
     "name": "stderr",
     "output_type": "stream",
     "text": [
      "[WARNING] CUDA not available - defaulting to CPU. Note: This module is much faster with a GPU.\n"
     ]
    },
    {
     "name": "stdout",
     "output_type": "stream",
     "text": [
      "Task is completed\n",
      "Result is in test.docx\n"
     ]
    }
   ],
   "source": [
    "import os.path\n",
    "import easyocr\n",
    "from docx import Document\n",
    "from docx.shared import Pt\n",
    "import fitz\n",
    "\n",
    "\n",
    "def scan_to_docx(lang, scan_path, output_path):\n",
    "    reader = easyocr.Reader(lang)\n",
    "    result = reader.readtext(scan_path, detail=0, paragraph=True)\n",
    "    doc = Document()\n",
    "    style = doc.styles['Normal']\n",
    "    style.font.name = 'Times New Roman'\n",
    "    style.font.size = Pt(14)\n",
    "    for i in result:\n",
    "        doc.add_paragraph(i)\n",
    "    doc.save(output_path)\n",
    "\n",
    "def extract_text(scan_path, language, output_path = \"output.docx\"):\n",
    "    extentions = [\".png\", \".pdf\", \".tiff\", \".jpg\"]\n",
    "    lang = list()\n",
    "    lang.append(language)\n",
    "    file_extention = scan_path[scan_path.rfind(\".\"):]\n",
    "    if file_extention in extentions:\n",
    "        if file_extention == \".pdf\":\n",
    "            pdf_input = fitz.open(scan_path)\n",
    "            page = pdf_input[0]\n",
    "            matrix = fitz.Matrix(8, 8)\n",
    "            pixmap = page.get_pixmap(matrix = matrix, alpha = False)\n",
    "            scan_path = scan_path.replace(\".pdf\", \".png\")\n",
    "            pixmap.save(scan_path)\n",
    "            pdf_input.close()\n",
    "            \n",
    "        scan_to_docx(lang,scan_path, output_path)\n",
    "\n",
    "        print(\"Task is completed\")\n",
    "        print(f\"Result is in {output_path}\")\n",
    "        return\n",
    "    else:\n",
    "        print(f\"File extention {file_extention} is not supported\")\n",
    "        return\n",
    "    \n",
    "\n",
    "\n",
    "def main():\n",
    "    language_check = [\"ru\", \"en\", \"fr\", \"de\", \"es\"]\n",
    "    scan_path = input(f\"Enter scan path, available file extentions (png, pdf, tiff, jpg):  \")\n",
    "    language = input(f\"Enter scan language, one of the following: ru - Russian, en - English, fr - French, de - German, es - spanish \")\n",
    "    output_path = input(f\"Enter output path: \")\n",
    "    if os.path.isfile(scan_path):\n",
    "        if language in language_check:\n",
    "            extract_text(scan_path = scan_path, language = language, output_path = output_path)\n",
    "        else:\n",
    "            print(f\"Language {language} is not supported\")\n",
    "    else:\n",
    "        print(f\"The filename {scan_path} is incorrect\")\n",
    "\n",
    "\n",
    "\n",
    "if __name__ == '__main__':\n",
    "    main()"
   ]
  }
 ],
 "metadata": {
  "kernelspec": {
   "display_name": "Python 3 (ipykernel)",
   "language": "python",
   "name": "python3"
  },
  "language_info": {
   "codemirror_mode": {
    "name": "ipython",
    "version": 3
   },
   "file_extension": ".py",
   "mimetype": "text/x-python",
   "name": "python",
   "nbconvert_exporter": "python",
   "pygments_lexer": "ipython3",
   "version": "3.9.12"
  }
 },
 "nbformat": 4,
 "nbformat_minor": 5
}
