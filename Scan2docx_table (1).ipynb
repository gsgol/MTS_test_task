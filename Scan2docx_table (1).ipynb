{
 "cells": [
  {
   "cell_type": "code",
   "execution_count": 11,
   "id": "3110b635",
   "metadata": {},
   "outputs": [
    {
     "name": "stdout",
     "output_type": "stream",
     "text": [
      "Enter scan path, available file extentions (png, pdf, tiff, jpg):  t.png\n",
      "Enter scan languages, choose from the following: ru - Russian, en - English, fr - French, de - German, es - spanish ru en\n",
      "Enter output path: t.docx\n"
     ]
    },
    {
     "name": "stderr",
     "output_type": "stream",
     "text": [
      "CUDA not available - defaulting to CPU. Note: This module is much faster with a GPU.\n"
     ]
    },
    {
     "name": "stdout",
     "output_type": "stream",
     "text": [
      "Task is completed\n",
      "Result is in t.docx\n"
     ]
    }
   ],
   "source": [
    "import os.path\n",
    "import easyocr\n",
    "from docx import Document\n",
    "from docx.shared import Pt\n",
    "import fitz\n",
    "\n",
    "\n",
    "def scan_to_docx(lang, scan_path, output_path):\n",
    "    reader = easyocr.Reader(lang)\n",
    "    result = reader.readtext(scan_path, detail=0, paragraph=True)\n",
    "    doc = Document()\n",
    "    style = doc.styles['Normal']\n",
    "    style.font.name = 'Times New Roman'\n",
    "    style.font.size = Pt(14)\n",
    "    doc.add_paragraph(result[0])\n",
    "    table = doc.add_table(3,3)\n",
    "    table.style = 'Light Shading Accent 1'\n",
    "    t = 1\n",
    "    for i in range(3):\n",
    "        for j in range(3):\n",
    "            if i == j == 0:\n",
    "                pass\n",
    "            else:\n",
    "                if (t) < len(result):\n",
    "                    table.cell(i,j).text = result[t]\n",
    "                    t += 1\n",
    "                else:\n",
    "                    break  \n",
    "    doc.save(output_path)\n",
    "    return\n",
    "\n",
    "def extract_text(scan_path, language, output_path = \"output.docx\"):\n",
    "    extentions = [\".png\", \".pdf\", \".tiff\", \".jpg\"]\n",
    "    file_extention = scan_path[scan_path.rfind(\".\"):]\n",
    "    if file_extention in extentions:\n",
    "        if file_extention == \".pdf\":\n",
    "            pdf_input = fitz.open(scan_path)\n",
    "            page = pdf_input[0]\n",
    "            matrix = fitz.Matrix(8, 8)\n",
    "            pixmap = page.get_pixmap(matrix = matrix, alpha = False)\n",
    "            scan_path = scan_path.replace(\".pdf\", \".png\")\n",
    "            pixmap.save(scan_path)\n",
    "            pdf_input.close()\n",
    "            \n",
    "        scan_to_docx(language,scan_path, output_path)\n",
    "\n",
    "        print(\"Task is completed\")\n",
    "        print(f\"Result is in {output_path}\")\n",
    "        return\n",
    "    else:\n",
    "        print(f\"File extention {file_extention} is not supported\")\n",
    "        return\n",
    "    \n",
    "\n",
    "\n",
    "def main():\n",
    "    language_check = [\"ru\", \"en\", \"fr\", \"de\", \"es\"]\n",
    "    scan_path = input(f\"Enter scan path, available file extentions (png, pdf, tiff, jpg):  \")\n",
    "    language = input(f\"Enter scan languages, choose from the following: ru - Russian, en - English, fr - French, de - German, es - spanish \").split()\n",
    "    output_path = input(f\"Enter output path: \")\n",
    "    if os.path.isfile(scan_path):\n",
    "        for i in language:\n",
    "            if i not in language_check:\n",
    "                print(f\"Language {i} is not supported\")\n",
    "                return\n",
    "        extract_text(scan_path = scan_path, language = language, output_path = output_path)        \n",
    "    else:\n",
    "        print(f\"The filename {scan_path} is incorrect\")\n",
    "\n",
    "\n",
    "\n",
    "if __name__ == '__main__':\n",
    "    main()"
   ]
  }
 ],
 "metadata": {
  "kernelspec": {
   "display_name": "Python 3 (ipykernel)",
   "language": "python",
   "name": "python3"
  },
  "language_info": {
   "codemirror_mode": {
    "name": "ipython",
    "version": 3
   },
   "file_extension": ".py",
   "mimetype": "text/x-python",
   "name": "python",
   "nbconvert_exporter": "python",
   "pygments_lexer": "ipython3",
   "version": "3.9.12"
  }
 },
 "nbformat": 4,
 "nbformat_minor": 5
}
